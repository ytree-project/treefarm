{
 "cells": [
  {
   "cell_type": "markdown",
   "metadata": {},
   "source": [
    "# Welcome to ytree!\n",
    "\n",
    "ytree is a yt extension for working with merger-tree data from different sources.\n",
    "\n",
    "Below is a brief tutotial of working with merger-tree data in ytree.  For more information, see the full documentation at http://ytree.readthedocs.io/."
   ]
  },
  {
   "cell_type": "code",
   "execution_count": 1,
   "metadata": {
    "collapsed": true
   },
   "outputs": [],
   "source": [
    "import ytree"
   ]
  },
  {
   "cell_type": "markdown",
   "metadata": {},
   "source": [
    "## Loading data\n",
    "\n",
    "Similar to yt, ytree uses a smart `load` command that will determine the type of data being provided.  Data is loaded into a structure called an `Arbor`, which is a collection of trees."
   ]
  },
  {
   "cell_type": "code",
   "execution_count": 3,
   "metadata": {
    "collapsed": false
   },
   "outputs": [],
   "source": [
    "# consistent-trees\n",
    "a = ytree.load(\"consistent_trees/tree_0_0_0.dat\")\n",
    "\n",
    "# rockstar halo catalogs\n",
    "# a = ytree.load(\"rockstar/rockstar_halos/out_0.list\")\n",
    "\n",
    "# TreeFarm (the ytree merger-tree code for Gadget FoF/SUBFIND data)\n",
    "# a = ytree.load(\"tree_farm/tree_farm_descendents/fof_subhalo_tab_000.0.h5\")\n",
    "# a = ytree.load(\"tree_farm/tree_farm_ancestors/fof_subhalo_tab_017.0.h5\")"
   ]
  },
  {
   "cell_type": "markdown",
   "metadata": {},
   "source": [
    "## Accessing trees\n",
    "\n",
    "Trees are stored in the `trees` attribute associated with the `Arbor`.  They can also be accessed directly from the `Arbor`."
   ]
  },
  {
   "cell_type": "code",
   "execution_count": 4,
   "metadata": {
    "collapsed": false
   },
   "outputs": [
    {
     "name": "stderr",
     "output_type": "stream",
     "text": [
      "Loading tree roots: 100%|██████████| 5105985/5105985 [00:00<00:00, 565813825.88it/s]\n"
     ]
    },
    {
     "name": "stdout",
     "output_type": "stream",
     "text": [
      "327\n"
     ]
    }
   ],
   "source": [
    "# How many trees are there?\n",
    "print (a.size)"
   ]
  },
  {
   "cell_type": "markdown",
   "metadata": {},
   "source": [
    "A `TreeNode` is a single halo in a tree.\n",
    "\n",
    "Fields for any tree node can be accessed in a dictionary-like fashion."
   ]
  },
  {
   "cell_type": "code",
   "execution_count": 5,
   "metadata": {
    "collapsed": false
   },
   "outputs": [
    {
     "name": "stdout",
     "output_type": "stream",
     "text": [
      "TreeNode[12900]\n",
      "mass:  657410071942446.1 Msun\n",
      "redshift: 0.0\n"
     ]
    }
   ],
   "source": [
    "# Let's look at the first tree\n",
    "print (a[0])\n",
    "\n",
    "print (\"mass: \", a[0][\"mass\"])\n",
    "print (\"redshift:\", a[0][\"redshift\"])"
   ]
  },
  {
   "cell_type": "markdown",
   "metadata": {},
   "source": [
    "### Accessing members of a tree\n",
    "\n",
    "The `tree` keyword will return all halos in the tree.\n",
    "\n",
    "The `prog` keyword will return only the main progenitors of the tree."
   ]
  },
  {
   "cell_type": "code",
   "execution_count": 6,
   "metadata": {
    "collapsed": false
   },
   "outputs": [
    {
     "name": "stdout",
     "output_type": "stream",
     "text": [
      "Halos in this tree:  83\n",
      "Main progenitors of the tree:  48\n"
     ]
    }
   ],
   "source": [
    "print (\"Halos in this tree: \", a[0][\"tree\"].size)\n",
    "\n",
    "print (\"Main progenitors of the tree: \", a[0][\"prog\"].size)"
   ]
  },
  {
   "cell_type": "markdown",
   "metadata": {},
   "source": [
    "### Field data for the tree\n",
    "\n",
    "Field data for the whole tree or progenitors list can be accessed using the `tree` or `prog` keywords with the field name."
   ]
  },
  {
   "cell_type": "code",
   "execution_count": 7,
   "metadata": {
    "collapsed": true
   },
   "outputs": [],
   "source": [
    "from matplotlib import pyplot\n",
    "%matplotlib inline"
   ]
  },
  {
   "cell_type": "code",
   "execution_count": 8,
   "metadata": {
    "collapsed": false
   },
   "outputs": [
    {
     "data": {
      "text/plain": [
       "<matplotlib.text.Text at 0x110f6bba8>"
      ]
     },
     "execution_count": 8,
     "metadata": {},
     "output_type": "execute_result"
    },
    {
     "data": {
      "image/png": "[encoded data removed]",
      "text/plain": [
       "<matplotlib.figure.Figure at 0x1103fc240>"
      ]
     },
     "metadata": {},
     "output_type": "display_data"
    }
   ],
   "source": [
    "mytree = a[0]\n",
    "pyplot.scatter(1 + mytree[\"tree\", \"redshift\"], mytree[\"tree\", \"mass\"])\n",
    "pyplot.plot(1 + mytree[\"prog\", \"redshift\"], mytree[\"prog\", \"mass\"], color=\"black\")\n",
    "pyplot.xlabel(\"1 + z\")\n",
    "pyplot.ylabel(\"M [Msun]\")"
   ]
  },
  {
   "cell_type": "markdown",
   "metadata": {},
   "source": [
    "### Field data for all trees\n",
    "\n",
    "For quick identification of trees, fields for the roots of all trees can be accessed by querying the ``Arbor`` like a dictionary."
   ]
  },
  {
   "cell_type": "code",
   "execution_count": 9,
   "metadata": {
    "collapsed": true
   },
   "outputs": [],
   "source": [
    "import numpy as np"
   ]
  },
  {
   "cell_type": "code",
   "execution_count": 10,
   "metadata": {
    "collapsed": false
   },
   "outputs": [
    {
     "name": "stderr",
     "output_type": "stream",
     "text": [
      "Getting root fields: 100%|██████████| 327/327 [00:00<00:00, 10887.98it/s]\n",
      "Getting root fields: 100%|██████████| 327/327 [00:00<00:00, 11621.33it/s]\n"
     ]
    },
    {
     "data": {
      "text/plain": [
       "<matplotlib.text.Text at 0x1142835c0>"
      ]
     },
     "execution_count": 10,
     "metadata": {},
     "output_type": "execute_result"
    },
    {
     "data": {
      "image/png": "[encoded data removed]",
      "text/plain": [
       "<matplotlib.figure.Figure at 0x114298b70>"
      ]
     },
     "metadata": {},
     "output_type": "display_data"
    }
   ],
   "source": [
    "pyplot.scatter(np.log10(a[\"virial_radius\"].to(\"Mpc\")),\n",
    "               np.log10(a[\"virial_mass\"]))\n",
    "pyplot.xlabel(\"log (r_vir / Mpc)\")\n",
    "pyplot.ylabel(\"log (M_vir / Msun)\")"
   ]
  },
  {
   "cell_type": "markdown",
   "metadata": {},
   "source": [
    "# ytree Documentation\n",
    "\n",
    "For more information, see the full documentation at http://ytree.readthedocs.io/."
   ]
  }
 ],
 "metadata": {
  "kernelspec": {
   "display_name": "Python 3",
   "language": "python",
   "name": "python3"
  },
  "language_info": {
   "codemirror_mode": {
    "name": "ipython",
    "version": 3
   },
   "file_extension": ".py",
   "mimetype": "text/x-python",
   "name": "python",
   "nbconvert_exporter": "python",
   "pygments_lexer": "ipython3",
   "version": "3.6.0"
  }
 },
 "nbformat": 4,
 "nbformat_minor": 2
}
